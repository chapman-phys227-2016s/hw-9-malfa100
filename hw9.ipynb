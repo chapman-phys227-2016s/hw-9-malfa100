{
 "cells": [
  {
   "cell_type": "code",
   "execution_count": 1,
   "metadata": {
    "collapsed": false
   },
   "outputs": [],
   "source": [
    "import Backward2 as p1\n",
    "import MCint_class as p2"
   ]
  },
  {
   "cell_type": "markdown",
   "metadata": {},
   "source": [
    "# Homework 9\n",
    "## Andrew Malfavon"
   ]
  },
  {
   "cell_type": "markdown",
   "metadata": {},
   "source": [
    "### Exercise 9.11 $\\mathit{Implement\\ a\\ new\\ subclass\\ for\\ differentiation.}$ (Backward2.py)"
   ]
  },
  {
   "cell_type": "markdown",
   "metadata": {},
   "source": [
    "A one-sided, three-point, second-order accurate formula for differentiating\n",
    "a function $f(x)$ has the form\n",
    "$$f'(x) \\approx \\frac{f(x-2h)-4f(x-h)+3f(x)}{2h}$$\n",
    "This is implemented as a subclass __Backward2__ of class __Diff__ and compared with the subclass __Backward1__ for $g(t)=e^{-t}$ at $t=0$ and $h=e^{-k}$ for $k=0,1,...,14$. The results are shown in the table along with the error for each case. It is clear __Backward2__ has better accuracy, expecially for larger $k$."
   ]
  },
  {
   "cell_type": "code",
   "execution_count": 2,
   "metadata": {
    "collapsed": false
   },
   "outputs": [
    {
     "data": {
      "text/html": [
       "<div>\n",
       "<table border=\"1\" class=\"dataframe\">\n",
       "  <thead>\n",
       "    <tr style=\"text-align: right;\">\n",
       "      <th></th>\n",
       "      <th>Backward1</th>\n",
       "      <th>Backward1 Error</th>\n",
       "      <th>Backward2</th>\n",
       "      <th>Backward2 Error</th>\n",
       "    </tr>\n",
       "  </thead>\n",
       "  <tbody>\n",
       "    <tr>\n",
       "      <th>k=0</th>\n",
       "      <td>-1.718282</td>\n",
       "      <td>0.718282</td>\n",
       "      <td>-0.242036</td>\n",
       "      <td>7.579644e-01</td>\n",
       "    </tr>\n",
       "    <tr>\n",
       "      <th>k = 1</th>\n",
       "      <td>-1.297443</td>\n",
       "      <td>0.297443</td>\n",
       "      <td>-0.876603</td>\n",
       "      <td>1.233967e-01</td>\n",
       "    </tr>\n",
       "    <tr>\n",
       "      <th>k = 2</th>\n",
       "      <td>-1.136102</td>\n",
       "      <td>0.136102</td>\n",
       "      <td>-0.974761</td>\n",
       "      <td>2.523921e-02</td>\n",
       "    </tr>\n",
       "    <tr>\n",
       "      <th>k = 3</th>\n",
       "      <td>-1.065188</td>\n",
       "      <td>0.065188</td>\n",
       "      <td>-0.994274</td>\n",
       "      <td>5.726418e-03</td>\n",
       "    </tr>\n",
       "    <tr>\n",
       "      <th>k = 4</th>\n",
       "      <td>-1.031911</td>\n",
       "      <td>0.031911</td>\n",
       "      <td>-0.998635</td>\n",
       "      <td>1.364939e-03</td>\n",
       "    </tr>\n",
       "    <tr>\n",
       "      <th>k = 5</th>\n",
       "      <td>-1.015789</td>\n",
       "      <td>0.015789</td>\n",
       "      <td>-0.999667</td>\n",
       "      <td>3.332627e-04</td>\n",
       "    </tr>\n",
       "    <tr>\n",
       "      <th>k = 6</th>\n",
       "      <td>-1.007853</td>\n",
       "      <td>0.007853</td>\n",
       "      <td>-0.999918</td>\n",
       "      <td>8.234088e-05</td>\n",
       "    </tr>\n",
       "    <tr>\n",
       "      <th>k = 7</th>\n",
       "      <td>-1.003916</td>\n",
       "      <td>0.003916</td>\n",
       "      <td>-0.999980</td>\n",
       "      <td>2.046470e-05</td>\n",
       "    </tr>\n",
       "    <tr>\n",
       "      <th>k = 8</th>\n",
       "      <td>-1.001956</td>\n",
       "      <td>0.001956</td>\n",
       "      <td>-0.999995</td>\n",
       "      <td>5.101191e-06</td>\n",
       "    </tr>\n",
       "    <tr>\n",
       "      <th>k = 9</th>\n",
       "      <td>-1.000977</td>\n",
       "      <td>0.000977</td>\n",
       "      <td>-0.999999</td>\n",
       "      <td>1.273430e-06</td>\n",
       "    </tr>\n",
       "    <tr>\n",
       "      <th>k = 10</th>\n",
       "      <td>-1.000488</td>\n",
       "      <td>0.000488</td>\n",
       "      <td>-1.000000</td>\n",
       "      <td>3.181244e-07</td>\n",
       "    </tr>\n",
       "    <tr>\n",
       "      <th>k = 11</th>\n",
       "      <td>-1.000244</td>\n",
       "      <td>0.000244</td>\n",
       "      <td>-1.000000</td>\n",
       "      <td>7.950166e-08</td>\n",
       "    </tr>\n",
       "    <tr>\n",
       "      <th>k = 12</th>\n",
       "      <td>-1.000122</td>\n",
       "      <td>0.000122</td>\n",
       "      <td>-1.000000</td>\n",
       "      <td>1.987246e-08</td>\n",
       "    </tr>\n",
       "    <tr>\n",
       "      <th>k = 13</th>\n",
       "      <td>-1.000061</td>\n",
       "      <td>0.000061</td>\n",
       "      <td>-1.000000</td>\n",
       "      <td>4.969479e-09</td>\n",
       "    </tr>\n",
       "    <tr>\n",
       "      <th>k = 14</th>\n",
       "      <td>-1.000031</td>\n",
       "      <td>0.000031</td>\n",
       "      <td>-1.000000</td>\n",
       "      <td>1.236913e-09</td>\n",
       "    </tr>\n",
       "  </tbody>\n",
       "</table>\n",
       "</div>"
      ],
      "text/plain": [
       "        Backward1  Backward1 Error  Backward2  Backward2 Error\n",
       "k=0     -1.718282         0.718282  -0.242036     7.579644e-01\n",
       "k = 1   -1.297443         0.297443  -0.876603     1.233967e-01\n",
       "k = 2   -1.136102         0.136102  -0.974761     2.523921e-02\n",
       "k = 3   -1.065188         0.065188  -0.994274     5.726418e-03\n",
       "k = 4   -1.031911         0.031911  -0.998635     1.364939e-03\n",
       "k = 5   -1.015789         0.015789  -0.999667     3.332627e-04\n",
       "k = 6   -1.007853         0.007853  -0.999918     8.234088e-05\n",
       "k = 7   -1.003916         0.003916  -0.999980     2.046470e-05\n",
       "k = 8   -1.001956         0.001956  -0.999995     5.101191e-06\n",
       "k = 9   -1.000977         0.000977  -0.999999     1.273430e-06\n",
       "k = 10  -1.000488         0.000488  -1.000000     3.181244e-07\n",
       "k = 11  -1.000244         0.000244  -1.000000     7.950166e-08\n",
       "k = 12  -1.000122         0.000122  -1.000000     1.987246e-08\n",
       "k = 13  -1.000061         0.000061  -1.000000     4.969479e-09\n",
       "k = 14  -1.000031         0.000031  -1.000000     1.236913e-09"
      ]
     },
     "execution_count": 2,
     "metadata": {},
     "output_type": "execute_result"
    }
   ],
   "source": [
    "p1.table()"
   ]
  },
  {
   "cell_type": "markdown",
   "metadata": {
    "collapsed": true
   },
   "source": [
    "### Exercise 9.14 $\\mathit{Add\\ a\\ new\\ class\\ in\\ a\\ class\\ hierarchy.}$ (MCint_class.py)"
   ]
  },
  {
   "cell_type": "markdown",
   "metadata": {},
   "source": [
    "The Monte Carlo integration method is added as a subclass in the __Integrator__ hierarchy. It is shown here for an example function $8x^{3}+3x^{2}+4x$, which has an exact analytical integration $2x^{4}+x^{3}+2x^{2}$. The approximated integration from $x=2$ to $x=3$ is shown along with the analytical solution of the same interval and the error between the results is displayed."
   ]
  },
  {
   "cell_type": "code",
   "execution_count": 3,
   "metadata": {
    "collapsed": false
   },
   "outputs": [
    {
     "name": "stdout",
     "output_type": "stream",
     "text": [
      "Approximation: 158.982574551\n",
      "Exact value: 159\n",
      "Error: 0.0174254488677\n"
     ]
    }
   ],
   "source": [
    "approx = p2.MCint_vec(2, 3, 1000000).integrate(p2.example_func)\n",
    "exact = p2.func_integrate(3) - p2.func_integrate(2)\n",
    "print 'Approximation: {}'.format(approx)\n",
    "print 'Exact value: {}'.format(exact)\n",
    "print 'Error: {}'.format(abs(approx - exact))"
   ]
  },
  {
   "cell_type": "code",
   "execution_count": null,
   "metadata": {
    "collapsed": true
   },
   "outputs": [],
   "source": []
  }
 ],
 "metadata": {
  "kernelspec": {
   "display_name": "Python 2 (SageMath)",
   "language": "python",
   "name": "python2"
  },
  "language_info": {
   "codemirror_mode": {
    "name": "ipython",
    "version": 2
   },
   "file_extension": ".py",
   "mimetype": "text/x-python",
   "name": "python",
   "nbconvert_exporter": "python",
   "pygments_lexer": "ipython2",
   "version": "2.7.10"
  }
 },
 "nbformat": 4,
 "nbformat_minor": 0
}
